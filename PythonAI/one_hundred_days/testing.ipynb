{
 "cells": [
  {
   "cell_type": "code",
   "execution_count": 5,
   "id": "30d51a68",
   "metadata": {},
   "outputs": [
    {
     "name": "stdout",
     "output_type": "stream",
     "text": [
      "The\n",
      "Brushy\n",
      "Mountains\n"
     ]
    }
   ],
   "source": [
    "print(\"The\\nBrushy\\nMountains\")"
   ]
  },
  {
   "cell_type": "code",
   "execution_count": 8,
   "id": "ae969a5e",
   "metadata": {},
   "outputs": [
    {
     "data": {
      "text/plain": [
       "20"
      ]
     },
     "execution_count": 8,
     "metadata": {},
     "output_type": "execute_result"
    }
   ],
   "source": [
    "val = \"The Brushy Mountains\"\n",
    "len(val)"
   ]
  },
  {
   "cell_type": "markdown",
   "id": "f90c3c35",
   "metadata": {},
   "source": [
    "#### Tip Calculator"
   ]
  },
  {
   "cell_type": "code",
   "execution_count": 24,
   "id": "81029838",
   "metadata": {},
   "outputs": [
    {
     "data": {
      "text/plain": [
       "64.5"
      ]
     },
     "execution_count": 24,
     "metadata": {},
     "output_type": "execute_result"
    }
   ],
   "source": [
    "bill = 215\n",
    "\n",
    "def tip(bill):\n",
    "    tip = bill *.20\n",
    "    total = tip + bill\n",
    "    split = total / 4 \n",
    "    return split\n",
    "\n",
    "tip(bill)"
   ]
  },
  {
   "cell_type": "code",
   "execution_count": 12,
   "id": "6cf681da",
   "metadata": {},
   "outputs": [
    {
     "data": {
      "text/plain": [
       "1"
      ]
     },
     "execution_count": 12,
     "metadata": {},
     "output_type": "execute_result"
    }
   ],
   "source": [
    "10 % 3"
   ]
  },
  {
   "cell_type": "code",
   "execution_count": 14,
   "id": "7bfcae9f",
   "metadata": {},
   "outputs": [
    {
     "name": "stdout",
     "output_type": "stream",
     "text": [
      "Hibriten marks the western edge\n"
     ]
    }
   ],
   "source": [
    "with open(\"test.txt\") as file:\n",
    "    contents = file.read()\n",
    "    print(contents)"
   ]
  },
  {
   "cell_type": "code",
   "execution_count": 6,
   "id": "1c98562f",
   "metadata": {},
   "outputs": [
    {
     "data": {
      "text/plain": [
       "'Hello Worl'"
      ]
     },
     "execution_count": 6,
     "metadata": {},
     "output_type": "execute_result"
    }
   ],
   "source": [
    "hello_world = \"Hello World\"\n",
    "hello_world[:-1]"
   ]
  },
  {
   "cell_type": "code",
   "execution_count": 7,
   "id": "fd3240e4",
   "metadata": {},
   "outputs": [
    {
     "data": {
      "text/plain": [
       "'yo'"
      ]
     },
     "execution_count": 7,
     "metadata": {},
     "output_type": "execute_result"
    }
   ],
   "source": [
    "street_name = \"Abbey Road\"\n",
    "street_name[4] + street_name[7]\n",
    "\n"
   ]
  },
  {
   "cell_type": "code",
   "execution_count": 8,
   "id": "0a8db6cb",
   "metadata": {},
   "outputs": [
    {
     "data": {
      "text/plain": [
       "str"
      ]
     },
     "execution_count": 8,
     "metadata": {},
     "output_type": "execute_result"
    }
   ],
   "source": [
    "type(street_name)"
   ]
  },
  {
   "cell_type": "code",
   "execution_count": 19,
   "id": "dcc7ecf6",
   "metadata": {},
   "outputs": [
    {
     "data": {
      "text/plain": [
       "20"
      ]
     },
     "execution_count": 19,
     "metadata": {},
     "output_type": "execute_result"
    }
   ],
   "source": [
    "val = \"The Brushy Mountains\"\n",
    "len(val)"
   ]
  },
  {
   "cell_type": "code",
   "execution_count": 14,
   "id": "17327c99",
   "metadata": {},
   "outputs": [
    {
     "name": "stdout",
     "output_type": "stream",
     "text": [
      "The Brushy 4\n"
     ]
    }
   ],
   "source": [
    "sample_text = \"The Brushy \"\n",
    "final_text = input(\"Mountains\")\n",
    "final = str(len(final_text))\n",
    "\n",
    "print(sample_text + final)\n",
    "#print(\"Number of letters in \" + str(len(input(\"Hello\"))))"
   ]
  },
  {
   "cell_type": "code",
   "execution_count": 15,
   "id": "05bb2a19",
   "metadata": {},
   "outputs": [
    {
     "data": {
      "text/plain": [
       "27"
      ]
     },
     "execution_count": 15,
     "metadata": {},
     "output_type": "execute_result"
    }
   ],
   "source": [
    "3**3"
   ]
  },
  {
   "cell_type": "code",
   "execution_count": 18,
   "id": "11f9ca6f",
   "metadata": {},
   "outputs": [
    {
     "data": {
      "text/plain": [
       "5"
      ]
     },
     "execution_count": 18,
     "metadata": {},
     "output_type": "execute_result"
    }
   ],
   "source": [
    "int(5.98)"
   ]
  },
  {
   "cell_type": "code",
   "execution_count": 16,
   "id": "c4cc9065",
   "metadata": {},
   "outputs": [
    {
     "data": {
      "text/plain": [
       "30.85399449035813"
      ]
     },
     "execution_count": 16,
     "metadata": {},
     "output_type": "execute_result"
    }
   ],
   "source": [
    "#weight / height ** 2\n",
    "\n",
    "height = 1.65\n",
    "weight = 84\n",
    "\n",
    "def bmi(height, weight):\n",
    "    return weight / height ** 2\n",
    "\n",
    "bmi(height, weight)"
   ]
  },
  {
   "cell_type": "code",
   "execution_count": 21,
   "id": "bae984c6",
   "metadata": {},
   "outputs": [
    {
     "name": "stdout",
     "output_type": "stream",
     "text": [
      "I Love The Brushy Mountains\n"
     ]
    }
   ],
   "source": [
    "print(f\"I Love {val}\")"
   ]
  },
  {
   "cell_type": "code",
   "execution_count": 23,
   "id": "3d281a0a",
   "metadata": {},
   "outputs": [
    {
     "data": {
      "text/plain": [
       "1.0"
      ]
     },
     "execution_count": 23,
     "metadata": {},
     "output_type": "execute_result"
    }
   ],
   "source": [
    "5 / 5"
   ]
  },
  {
   "cell_type": "code",
   "execution_count": 25,
   "id": "947c35b6",
   "metadata": {},
   "outputs": [
    {
     "data": {
      "text/plain": [
       "1"
      ]
     },
     "execution_count": 25,
     "metadata": {},
     "output_type": "execute_result"
    }
   ],
   "source": [
    "10 % 3"
   ]
  },
  {
   "cell_type": "markdown",
   "id": "ceeacc0b",
   "metadata": {},
   "source": [
    "#### The Ceasar Cipher"
   ]
  },
  {
   "cell_type": "code",
   "execution_count": 9,
   "id": "85a055ac",
   "metadata": {},
   "outputs": [
    {
     "name": "stdout",
     "output_type": "stream",
     "text": [
      "['f', 'g', 'h', 'i', 'j', 'k', 'l', 'm', 'n', 'o', 'p', 'q', 'r', 's', 't', 'u', 'v', 'w', 'x', 'y', 'z']\n",
      "[5]\n"
     ]
    }
   ],
   "source": [
    "import string\n",
    "\n",
    "lowercase_alphabet = list(string.ascii_lowercase)\n",
    "#lowercase_alphabet\n",
    "\n",
    "word_array = []\n",
    "index = int(input(\"Pick a Number\"))\n",
    "word_array.append(index)\n",
    "\n",
    "\n",
    "array = []\n",
    "while index < 26:\n",
    "    char_value = lowercase_alphabet[index]\n",
    "    index += 1\n",
    "    array.append(char_value)\n",
    "\n",
    "print(array)\n",
    "print(word_array)"
   ]
  },
  {
   "cell_type": "code",
   "execution_count": null,
   "id": "7436a36b",
   "metadata": {},
   "outputs": [
    {
     "name": "stdout",
     "output_type": "stream",
     "text": [
      "y\n",
      "j\n",
      "x\n",
      "y\n",
      "[24, 9, 23, 24]\n"
     ]
    }
   ],
   "source": [
    "#Get the user input for string\n",
    "input_string = input(\"Please Provide an input string for Cipher\")\n",
    "\n",
    "index = 5\n",
    "arry = []\n",
    "for char in input_string:\n",
    "    position = lowercase_alphabet.index(char)\n",
    "    final_postion = position + index\n",
    "    shifted_position = lowercase_alphabet[final_postion]\n",
    "    arry.append(final_postion)\n",
    "    print(shifted_position)\n",
    "  \n",
    "\n",
    "print(arry)\n",
    "\n",
    "\n",
    "\n"
   ]
  },
  {
   "cell_type": "code",
   "execution_count": null,
   "id": "22f1afab",
   "metadata": {},
   "outputs": [],
   "source": []
  }
 ],
 "metadata": {
  "kernelspec": {
   "display_name": "AIFramework",
   "language": "python",
   "name": "python3"
  },
  "language_info": {
   "codemirror_mode": {
    "name": "ipython",
    "version": 3
   },
   "file_extension": ".py",
   "mimetype": "text/x-python",
   "name": "python",
   "nbconvert_exporter": "python",
   "pygments_lexer": "ipython3",
   "version": "3.13.5"
  }
 },
 "nbformat": 4,
 "nbformat_minor": 5
}
