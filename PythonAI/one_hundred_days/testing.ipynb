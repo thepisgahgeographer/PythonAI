{
 "cells": [
  {
   "cell_type": "code",
   "execution_count": 5,
   "id": "30d51a68",
   "metadata": {},
   "outputs": [
    {
     "name": "stdout",
     "output_type": "stream",
     "text": [
      "The\n",
      "Brushy\n",
      "Mountains\n"
     ]
    }
   ],
   "source": [
    "print(\"The\\nBrushy\\nMountains\")"
   ]
  },
  {
   "cell_type": "code",
   "execution_count": 8,
   "id": "ae969a5e",
   "metadata": {},
   "outputs": [
    {
     "data": {
      "text/plain": [
       "20"
      ]
     },
     "execution_count": 8,
     "metadata": {},
     "output_type": "execute_result"
    }
   ],
   "source": [
    "val = \"The Brushy Mountains\"\n",
    "len(val)"
   ]
  },
  {
   "cell_type": "markdown",
   "id": "f90c3c35",
   "metadata": {},
   "source": [
    "#### Tip Calculator"
   ]
  },
  {
   "cell_type": "code",
   "execution_count": 11,
   "id": "81029838",
   "metadata": {},
   "outputs": [
    {
     "data": {
      "text/plain": [
       "49.5"
      ]
     },
     "execution_count": 11,
     "metadata": {},
     "output_type": "execute_result"
    }
   ],
   "source": [
    "bill = 165\n",
    "\n",
    "def tip(bill):\n",
    "    tip = bill *.20\n",
    "    total = tip + bill\n",
    "    split = total / 4 \n",
    "    return split\n",
    "\n",
    "tip(bill)"
   ]
  },
  {
   "cell_type": "code",
   "execution_count": 12,
   "id": "6cf681da",
   "metadata": {},
   "outputs": [
    {
     "data": {
      "text/plain": [
       "1"
      ]
     },
     "execution_count": 12,
     "metadata": {},
     "output_type": "execute_result"
    }
   ],
   "source": [
    "10 % 3"
   ]
  },
  {
   "cell_type": "code",
   "execution_count": 14,
   "id": "7bfcae9f",
   "metadata": {},
   "outputs": [
    {
     "name": "stdout",
     "output_type": "stream",
     "text": [
      "Hibriten marks the western edge\n"
     ]
    }
   ],
   "source": [
    "with open(\"test.txt\") as file:\n",
    "    contents = file.read()\n",
    "    print(contents)"
   ]
  },
  {
   "cell_type": "code",
   "execution_count": 15,
   "id": "3069f17b",
   "metadata": {},
   "outputs": [
    {
     "name": "stdout",
     "output_type": "stream",
     "text": [
      "Hibriten marks the western edge\n"
     ]
    }
   ],
   "source": [
    "file = \"test.txt\"\n",
    "\n",
    "\n",
    "with open(\"test.txt\", mode = \"w\")as file:\n",
    "    file.write(\"Hibriten marks the western edge\")\n",
    "    print(contents)\n",
    "\n"
   ]
  },
  {
   "cell_type": "code",
   "execution_count": null,
   "id": "6ab40ef9",
   "metadata": {},
   "outputs": [],
   "source": []
  }
 ],
 "metadata": {
  "kernelspec": {
   "display_name": "base",
   "language": "python",
   "name": "python3"
  },
  "language_info": {
   "codemirror_mode": {
    "name": "ipython",
    "version": 3
   },
   "file_extension": ".py",
   "mimetype": "text/x-python",
   "name": "python",
   "nbconvert_exporter": "python",
   "pygments_lexer": "ipython3",
   "version": "3.13.5"
  }
 },
 "nbformat": 4,
 "nbformat_minor": 5
}
